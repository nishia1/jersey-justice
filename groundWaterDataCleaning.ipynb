{
  "nbformat": 4,
  "nbformat_minor": 0,
  "metadata": {
    "colab": {
      "provenance": [],
      "mount_file_id": "1YWJlkVkaUoy4BvQKBQt6XLiSgRMlOZXe",
      "authorship_tag": "ABX9TyOfmVj6tkc8m0bF/13UToQj",
      "include_colab_link": true
    },
    "kernelspec": {
      "name": "python3",
      "display_name": "Python 3"
    },
    "language_info": {
      "name": "python"
    }
  },
  "cells": [
    {
      "cell_type": "markdown",
      "metadata": {
        "id": "view-in-github",
        "colab_type": "text"
      },
      "source": [
        "<a href=\"https://colab.research.google.com/github/nishia1/jersey-justice/blob/main/groundWaterDataCleaning.ipynb\" target=\"_parent\"><img src=\"https://colab.research.google.com/assets/colab-badge.svg\" alt=\"Open In Colab\"/></a>"
      ]
    },
    {
      "cell_type": "code",
      "source": [
        "# imports\n",
        "import geopandas as gpd\n",
        "import pandas as pd\n",
        "import numpy as np"
      ],
      "metadata": {
        "id": "dsaOmiy1saFU"
      },
      "execution_count": null,
      "outputs": []
    },
    {
      "cell_type": "code",
      "execution_count": null,
      "metadata": {
        "id": "38fS32DDr65y"
      },
      "outputs": [],
      "source": [
        "# ground water data set\n",
        "groundWater = {\n",
        "    'County':[],\n",
        "    #'Municipality': [],\n",
        "    'Water Temperature C' :[],\n",
        "    'Air Temperature C': [],\n",
        "    'Specific Conductance mS/cm':[],\n",
        "    'Salinity ppt': [],\n",
        "    '% Dissolved Oxygen %':[],\n",
        "    'DO Concentration mg/L': [],\n",
        "    'Depth m': [],\n",
        "    'pH': [],\n",
        "    'Turbidity NTU': [],\n",
        "    \"Chlorophyll a ug/L\": [],\n",
        "    \"Phycocyanin ug/L\": []\n",
        "          }\n",
        "df = pd.DataFrame(groundWater)\n",
        "df.to_csv(\"/content/drive/MyDrive/njdata/groundwater.csv\")"
      ]
    },
    {
      "cell_type": "code",
      "source": [
        "# cleaning bergen county data\n",
        "bergenWaterData1 = pd.read_csv(\"/content/drive/MyDrive/njdata/gw/bergen-county-freshwater.csv\")\n",
        "bergenWaterData2 = pd.read_csv(\"/content/drive/MyDrive/njdata/gw/bergen-county-marine.csv\")\n",
        "bergenWaterData1 = bergenWaterData1.drop(columns = [\"Project\", \"Comments\", \"Submission ID\"])\n",
        "bergenWaterData1 = bergenWaterData1. sort_values(by=[\"Municipality\"], ascending=False)\n",
        "bergenWaterData2 = bergenWaterData2.drop(columns = [\"Project\", \"Comments\", \"Submission ID\"])\n",
        "bergenWaterData2 = bergenWaterData2. sort_values(by=[\"Municipality\"], ascending=False)\n",
        "count = avgAir = avgWater = avgSpecificConductance = avgSalinityPpt = avgDissolvedOxy = avgDOConcen = avgDepth = avgTurbidity = avgPhy = avgChloro = avgpH= 0\n",
        "resultBergenData = []\n",
        "for ind in bergenWaterData1.index:\n",
        "    avgAir += bergenWaterData1['Air Temperature C'][ind]\n",
        "    avgWater += bergenWaterData1['Water Temperature C'][ind]\n",
        "    if(bergenWaterData1['Specific Conductance mS/cm'][ind]):\n",
        "      avgSpecificConductance += bergenWaterData1['Specific Conductance mS/cm'][ind]\n",
        "    avgSalinityPpt += bergenWaterData1['Salinity ppt'][ind]\n",
        "    avgDissolvedOxy += bergenWaterData1['% Dissolved Oxygen %'][ind]\n",
        "    avgDOConcen += bergenWaterData1['DO Concentration mg/L'][ind]\n",
        "    avgDepth += bergenWaterData1['Depth m'][ind]\n",
        "    #avgpH += bergenWaterData1['pH'][ind]\n",
        "    avgTurbidity += bergenWaterData1['Turbidity NTU'][ind]\n",
        "    avgPhy += bergenWaterData1['Phycocyanin ug/L'][ind]\n",
        "    avgChloro += bergenWaterData1['Chlorophyll a ug/L'][ind]\n",
        "    count+=1\n",
        "#print(avgWater)\n",
        "for ind in bergenWaterData2.index:\n",
        "    avgAir += bergenWaterData2['Air Temperature C'][ind]\n",
        "    if(bergenWaterData2['Water Temperature C'][ind]>0):\n",
        "      avgWater += bergenWaterData2['Water Temperature C'][ind]\n",
        "    if(bergenWaterData2['Specific Conductance mS/cm'][ind]>0):\n",
        "      avgSpecificConductance += bergenWaterData2['Specific Conductance mS/cm'][ind]\n",
        "    avgSalinityPpt += bergenWaterData2['Salinity ppt'][ind]\n",
        "    avgDissolvedOxy += bergenWaterData2['% Dissolved Oxygen %'][ind]\n",
        "    avgDOConcen += bergenWaterData2['DO Concentration mg/L'][ind]\n",
        "    avgDepth += bergenWaterData2['Depth m'][ind]\n",
        "    #avgpH += bergenWaterData2['pH'][ind]\n",
        "    avgTurbidity += bergenWaterData2['Turbidity NTU'][ind]\n",
        "    avgPhy += bergenWaterData2['Phycocyanin ug/L'][ind]\n",
        "    avgChloro += bergenWaterData2['Chlorophyll a ug/L'][ind]\n",
        "    count+=1\n",
        "# cleaning the county data by ensuring there are no spots in these columns w/o information\n",
        "print(avgWater)\n",
        "resultBergenData.append('Bergen')\n",
        "resultBergenData.append(avgWater/count)\n",
        "resultBergenData.append(avgAir/count)\n",
        "resultBergenData.append(avgSpecificConductance/count)\n",
        "resultBergenData.append(avgDOConcen/count)\n",
        "resultBergenData.append(avgDepth/count)\n",
        "#resultBergenData.append(avgpH/count)\n",
        "resultBergenData.append(avgTurbidity/count)\n",
        "resultBergenData.append(avgPhy/count)\n",
        "resultBergenData.append(avgChloro/count)\n",
        "print(resultBergenData)"
      ],
      "metadata": {
        "colab": {
          "base_uri": "https://localhost:8080/"
        },
        "id": "s7a4FxRMsDVk",
        "outputId": "e2f3ab4b-2966-4dd9-e8f0-dd3e51cba479"
      },
      "execution_count": null,
      "outputs": [
        {
          "output_type": "stream",
          "name": "stdout",
          "text": [
            "829151.8300000237\n",
            "['Bergen', 12.483278330648796, nan, 0.8895020279730761, nan, nan, nan, nan, nan]\n"
          ]
        }
      ]
    },
    {
      "cell_type": "code",
      "source": [
        "# cleaning burlington data\n",
        "burlingtonWaterData = pd.read_csv(\"/content/drive/MyDrive/njdata/gw/burlington-county.csv\")\n",
        "#print(middlesexWaterData.head())\n",
        "burlingtonWaterData = burlingtonWaterData.drop(columns = [\"Project\", \"Comments\", \"Submission ID\"])\n",
        "burlingtonWaterData = burlingtonWaterData. sort_values(by=[\"Municipality\"], ascending=False)\n",
        "#print(middlesexWaterData)\n",
        "count = avgAir = avgWater = avgSpecificConductance = avgSalinityPpt = avgDissolvedOxy = avgDOConcen = avgDepth = avgTurbidity = avgPhy = avgChloro = avgpH= 0\n",
        "resultBurlingtonData = []\n",
        "for ind in burlingtonWaterData.index:\n",
        "    avgAir += burlingtonWaterData['Air Temperature C'][ind]\n",
        "    if(burlingtonWaterData['Water Temperature C'][ind]>0):\n",
        "      avgWater += burlingtonWaterData['Water Temperature C'][ind]\n",
        "    if(burlingtonWaterData['Specific Conductance mS/cm'][ind]>0):\n",
        "      avgSpecificConductance += burlingtonWaterData['Specific Conductance mS/cm'][ind]\n",
        "    avgSalinityPpt += burlingtonWaterData['Salinity ppt'][ind]\n",
        "    avgDissolvedOxy += burlingtonWaterData['% Dissolved Oxygen %'][ind]\n",
        "    avgDOConcen += burlingtonWaterData['DO Concentration mg/L'][ind]\n",
        "    avgDepth += burlingtonWaterData['Depth m'][ind]\n",
        "    #avgpH += middlesexWaterData['pH'][ind]\n",
        "    avgTurbidity += burlingtonWaterData['Turbidity NTU'][ind]\n",
        "    avgPhy += burlingtonWaterData['Phycocyanin ug/L'][ind]\n",
        "    avgChloro += burlingtonWaterData['Chlorophyll a ug/L'][ind]\n",
        "    count+=1\n",
        "# cleaning the county data by ensuring there are no spots in these columns w/o information\n",
        "resultBurlingtonData.append('Burlington')\n",
        "resultBurlingtonData.append(avgWater/count)\n",
        "resultBurlingtonData.append(avgAir/count)\n",
        "resultBurlingtonData.append(avgSpecificConductance/count)\n",
        "resultBurlingtonData.append(avgDOConcen/count)\n",
        "resultBurlingtonData.append(avgDepth/count)\n",
        "resultBurlingtonData.append(avgpH/count)\n",
        "resultBurlingtonData.append(avgTurbidity/count)\n",
        "resultBurlingtonData.append(avgPhy/count)\n",
        "resultBurlingtonData.append(avgChloro/count)\n",
        "print(resultBurlingtonData)"
      ],
      "metadata": {
        "colab": {
          "base_uri": "https://localhost:8080/"
        },
        "id": "Ss31ipCwsIL9",
        "outputId": "44f2ad33-0463-451a-9de8-bc735baef9fb"
      },
      "execution_count": null,
      "outputs": [
        {
          "output_type": "stream",
          "name": "stderr",
          "text": [
            "<ipython-input-5-fd55d06306f3>:2: DtypeWarning: Columns (11) have mixed types. Specify dtype option on import or set low_memory=False.\n",
            "  burlingtonWaterData = pd.read_csv(\"/content/drive/MyDrive/njdata/gw/burlington-county.csv\")\n"
          ]
        },
        {
          "output_type": "stream",
          "name": "stdout",
          "text": [
            "['Burlington', 14.123936886271759, nan, 0.00013782761312928035, nan, nan, 0.0, nan, nan, nan]\n"
          ]
        }
      ]
    },
    {
      "cell_type": "code",
      "source": [
        "# cleaning camden data\n",
        "camdenWaterData = pd.read_csv(\"/content/drive/MyDrive/njdata/gw/camden-county.csv\")\n",
        "#print(middlesexWaterData.head())\n",
        "camdenWaterData = camdenWaterData.drop(columns = [\"Project\", \"Comments\", \"Submission ID\"])\n",
        "camdenWaterData = camdenWaterData. sort_values(by=[\"Municipality\"], ascending=False)\n",
        "#print(middlesexWaterData)\n",
        "count = avgAir = avgWater = avgSpecificConductance = avgSalinityPpt = avgDissolvedOxy = avgDOConcen = avgDepth = avgTurbidity = avgPhy = avgChloro = avgpH= 0\n",
        "resultCamdenData = []\n",
        "for ind in camdenWaterData.index:\n",
        "    avgAir += camdenWaterData['Air Temperature C'][ind]\n",
        "    if(camdenWaterData['Water Temperature C'][ind]>0):\n",
        "      avgWater += camdenWaterData['Water Temperature C'][ind]\n",
        "    avgSpecificConductance += camdenWaterData['Specific Conductance mS/cm'][ind]\n",
        "    avgSalinityPpt += camdenWaterData['Salinity ppt'][ind]\n",
        "    avgDissolvedOxy += camdenWaterData['% Dissolved Oxygen %'][ind]\n",
        "    avgDOConcen += camdenWaterData['DO Concentration mg/L'][ind]\n",
        "    avgDepth += camdenWaterData['Depth m'][ind]\n",
        "    #avgpH += middlesexWaterData['pH'][ind]\n",
        "    avgTurbidity += camdenWaterData['Turbidity NTU'][ind]\n",
        "    avgPhy += camdenWaterData['Phycocyanin ug/L'][ind]\n",
        "    avgChloro += camdenWaterData['Chlorophyll a ug/L'][ind]\n",
        "    count+=1\n",
        "# cleaning the county data by ensuring there are no spots in these columns w/o information\n",
        "resultCamdenData.append('Camden')\n",
        "resultCamdenData.append(avgWater/count)\n",
        "resultCamdenData.append(avgAir/count)\n",
        "resultCamdenData.append(avgSpecificConductance/count)\n",
        "resultCamdenData.append(avgDOConcen/count)\n",
        "resultCamdenData.append(avgDepth/count)\n",
        "resultCamdenData.append(avgpH/count)\n",
        "resultCamdenData.append(avgTurbidity/count)\n",
        "resultCamdenData.append(avgPhy/count)\n",
        "resultCamdenData.append(avgChloro/count)\n",
        "print(resultCamdenData)"
      ],
      "metadata": {
        "id": "gfz34TXysKzW"
      },
      "execution_count": null,
      "outputs": []
    },
    {
      "cell_type": "code",
      "source": [
        "# cleaning cumberland data\n",
        "cumberlandWaterData = pd.read_csv(\"/content/drive/MyDrive/njdata/gw/camden-county.csv\")\n",
        "#print(cumberlandWaterData.head())\n",
        "#print(cumberlandWaterData['pH '])\n",
        "#print(middlesexWaterData.head())\n",
        "cumberlandWaterData = cumberlandWaterData.drop(columns = [\"Project\", \"Comments\", \"Submission ID\"])\n",
        "cumberlandWaterData = cumberlandWaterData. sort_values(by=[\"Municipality\"], ascending=False)\n",
        "#print(middlesexWaterData)\n",
        "count = avgAir = avgWater = avgSpecificConductance = avgSalinityPpt = avgDissolvedOxy = avgDOConcen = avgDepth = avgTurbidity = avgPhy = avgChloro = avgpH= 0\n",
        "resultCumberlandData = []\n",
        "for ind in cumberlandWaterData.index:\n",
        "    avgAir += cumberlandWaterData['Air Temperature C'][ind]\n",
        "    if(cumberlandWaterData['Water Temperature C'][ind]>0):\n",
        "      avgWater += cumberlandWaterData['Water Temperature C'][ind]\n",
        "    avgSpecificConductance += cumberlandWaterData['Specific Conductance mS/cm'][ind]\n",
        "    avgSalinityPpt += cumberlandWaterData['Salinity ppt'][ind]\n",
        "    avgDissolvedOxy += cumberlandWaterData['% Dissolved Oxygen %'][ind]\n",
        "    avgDOConcen += cumberlandWaterData['DO Concentration mg/L'][ind]\n",
        "    avgDepth += cumberlandWaterData['Depth m'][ind]\n",
        "    avgpH += cumberlandWaterData['pH '][ind]\n",
        "    avgTurbidity += cumberlandWaterData['Turbidity NTU'][ind]\n",
        "    avgPhy += cumberlandWaterData['Phycocyanin ug/L'][ind]\n",
        "    avgChloro += cumberlandWaterData['Chlorophyll a ug/L'][ind]\n",
        "    count+=1\n",
        "# cleaning the county data by ensuring there are no spots in these columns w/o information\n",
        "resultCumberlandData.append('Cumberland')\n",
        "resultCumberlandData.append(avgWater/count)\n",
        "resultCumberlandData.append(avgAir/count)\n",
        "resultCumberlandData.append(avgSpecificConductance/count)\n",
        "resultCumberlandData.append(avgDOConcen/count)\n",
        "resultCumberlandData.append(avgDepth/count)\n",
        "resultCumberlandData.append(avgpH/count)\n",
        "resultCumberlandData.append(avgTurbidity/count)\n",
        "resultCumberlandData.append(avgPhy/count)\n",
        "resultCumberlandData.append(avgChloro/count)\n",
        "print(resultCumberlandData)"
      ],
      "metadata": {
        "id": "6U9VbDVVsNl7"
      },
      "execution_count": null,
      "outputs": []
    },
    {
      "cell_type": "code",
      "source": [
        "# cleaning essex data\n",
        "essexWaterData = pd.read_csv(\"/content/drive/MyDrive/njdata/gw/essex-county.csv\")\n",
        "#print(middlesexWaterData.head())\n",
        "essexWaterData = essexWaterData.drop(columns = [\"Project\", \"Comments\", \"Submission ID\"])\n",
        "essexWaterData = essexWaterData. sort_values(by=[\"Municipality\"], ascending=False)\n",
        "#print(middlesexWaterData)\n",
        "count = avgAir = avgWater = avgSpecificConductance = avgSalinityPpt = avgDissolvedOxy = avgDOConcen = avgDepth = avgTurbidity = avgPhy = avgChloro = avgpH= 0\n",
        "resultEssexData = []\n",
        "for ind in essexWaterData.index:\n",
        "    avgAir += essexWaterData['Air Temperature C'][ind]\n",
        "    if(essexWaterData['Water Temperature C'][ind]>0):\n",
        "      avgWater += essexWaterData['Water Temperature C'][ind]\n",
        "    avgSpecificConductance += essexWaterData['Specific Conductance mS/cm'][ind]\n",
        "    avgSalinityPpt += essexWaterData['Salinity ppt'][ind]\n",
        "    avgDissolvedOxy += essexWaterData['% Dissolved Oxygen %'][ind]\n",
        "    avgDOConcen += essexWaterData['DO Concentration mg/L'][ind]\n",
        "    avgDepth += essexWaterData['Depth m'][ind]\n",
        "    #avgpH += middlesexWaterData['pH'][ind]\n",
        "    avgTurbidity += essexWaterData['Turbidity NTU'][ind]\n",
        "    avgPhy += essexWaterData['Phycocyanin ug/L'][ind]\n",
        "    avgChloro += essexWaterData['Chlorophyll a ug/L'][ind]\n",
        "    count+=1\n",
        "# cleaning the county data by ensuring there are no spots in these columns w/o information\n",
        "resultEssexData.append('Essex')\n",
        "resultEssexData.append(avgWater/count)\n",
        "resultEssexData.append(avgAir/count)\n",
        "resultEssexData.append(avgSpecificConductance/count)\n",
        "resultEssexData.append(avgDOConcen/count)\n",
        "resultEssexData.append(avgDepth/count)\n",
        "resultEssexData.append(avgpH/count)\n",
        "resultEssexData.append(avgTurbidity/count)\n",
        "resultEssexData.append(avgPhy/count)\n",
        "resultEssexData.append(avgChloro/count)\n",
        "print(resultEssexData)"
      ],
      "metadata": {
        "id": "kWIEhOz9sQjj"
      },
      "execution_count": null,
      "outputs": []
    },
    {
      "cell_type": "code",
      "source": [
        "# cleaning gloucester data\n",
        "gloucesterWaterData = pd.read_csv(\"/content/drive/MyDrive/njdata/gw/gloucester-county.csv\")\n",
        "#print(middlesexWaterData.head())\n",
        "gloucesterWaterData = gloucesterWaterData.drop(columns = [\"Project\", \"Comments\", \"Submission ID\"])\n",
        "gloucesterWaterData = gloucesterWaterData. sort_values(by=[\"Municipality\"], ascending=False)\n",
        "#print(middlesexWaterData)\n",
        "count = avgAir = avgWater = avgSpecificConductance = avgSalinityPpt = avgDissolvedOxy = avgDOConcen = avgDepth = avgTurbidity = avgPhy = avgChloro = avgpH= 0\n",
        "resultGloucesterData = []\n",
        "for ind in gloucesterWaterData.index:\n",
        "    avgAir += gloucesterWaterData['Air Temperature C'][ind]\n",
        "    if(gloucesterWaterData['Water Temperature C'][ind]>0):\n",
        "      avgWater += gloucesterWaterData['Water Temperature C'][ind]\n",
        "    avgSpecificConductance += gloucesterWaterData['Specific Conductance mS/cm'][ind]\n",
        "    avgSalinityPpt += gloucesterWaterData['Salinity ppt'][ind]\n",
        "    avgDissolvedOxy += gloucesterWaterData['% Dissolved Oxygen %'][ind]\n",
        "    avgDOConcen += gloucesterWaterData['DO Concentration mg/L'][ind]\n",
        "    avgDepth += gloucesterWaterData['Depth m'][ind]\n",
        "    #avgpH += middlesexWaterData['pH'][ind]\n",
        "    avgTurbidity += gloucesterWaterData['Turbidity NTU'][ind]\n",
        "    avgPhy += gloucesterWaterData['Phycocyanin ug/L'][ind]\n",
        "    avgChloro += gloucesterWaterData['Chlorophyll a ug/L'][ind]\n",
        "    count+=1\n",
        "# cleaning the county data by ensuring there are no spots in these columns w/o information\n",
        "resultGloucesterData.append('Gloucester')\n",
        "resultGloucesterData.append(avgWater/count)\n",
        "resultGloucesterData.append(avgAir/count)\n",
        "resultGloucesterData.append(avgSpecificConductance/count)\n",
        "resultGloucesterData.append(avgDOConcen/count)\n",
        "resultGloucesterData.append(avgDepth/count)\n",
        "resultGloucesterData.append(avgpH/count)\n",
        "resultGloucesterData.append(avgTurbidity/count)\n",
        "resultGloucesterData.append(avgPhy/count)\n",
        "resultGloucesterData.append(avgChloro/count)\n",
        "print(resultGloucesterData)"
      ],
      "metadata": {
        "id": "6OYtNpyDsVps"
      },
      "execution_count": null,
      "outputs": []
    },
    {
      "cell_type": "code",
      "source": [
        "# cleaning hunterdon data\n",
        "hunterdonWaterData = pd.read_csv(\"/content/drive/MyDrive/njdata/gw/hunterdon-county.csv\")\n",
        "#print(middlesexWaterData.head())\n",
        "hunterdonWaterData = hunterdonWaterData.drop(columns = [\"Project\", \"Comments\", \"Submission ID\"])\n",
        "hunterdonWaterData = hunterdonWaterData. sort_values(by=[\"Municipality\"], ascending=False)\n",
        "#print(middlesexWaterData)\n",
        "count = avgAir = avgWater = avgSpecificConductance = avgSalinityPpt = avgDissolvedOxy = avgDOConcen = avgDepth = avgTurbidity = avgPhy = avgChloro = avgpH= 0\n",
        "resultHunterdonData = []\n",
        "for ind in hunterdonWaterData.index:\n",
        "    avgAir += hunterdonWaterData['Air Temperature C'][ind]\n",
        "    if(hunterdonWaterData['Water Temperature C'][ind]>0):\n",
        "      avgWater += hunterdonWaterData['Water Temperature C'][ind]\n",
        "    avgSpecificConductance += hunterdonWaterData['Specific Conductance mS/cm'][ind]\n",
        "    avgSalinityPpt += hunterdonWaterData['Salinity ppt'][ind]\n",
        "    avgDissolvedOxy += hunterdonWaterData['% Dissolved Oxygen %'][ind]\n",
        "    avgDOConcen += hunterdonWaterData['DO Concentration mg/L'][ind]\n",
        "    avgDepth += hunterdonWaterData['Depth m'][ind]\n",
        "    #avgpH += middlesexWaterData['pH'][ind]\n",
        "    avgTurbidity += hunterdonWaterData['Turbidity NTU'][ind]\n",
        "    avgPhy += hunterdonWaterData['Phycocyanin ug/L'][ind]\n",
        "    avgChloro += hunterdonWaterData['Chlorophyll a ug/L'][ind]\n",
        "    count+=1\n",
        "# cleaning the county data by ensuring there are no spots in these columns w/o information\n",
        "resultHunterdonData.append('Hunterdon')\n",
        "resultHunterdonData.append(avgWater/count)\n",
        "resultHunterdonData.append(avgAir/count)\n",
        "resultHunterdonData.append(avgSpecificConductance/count)\n",
        "resultHunterdonData.append(avgDOConcen/count)\n",
        "resultHunterdonData.append(avgDepth/count)\n",
        "resultHunterdonData.append(avgpH/count)\n",
        "resultHunterdonData.append(avgTurbidity/count)\n",
        "resultHunterdonData.append(avgPhy/count)\n",
        "resultHunterdonData.append(avgChloro/count)\n",
        "print(resultHunterdonData)"
      ],
      "metadata": {
        "id": "pQnXGVS6sWjd",
        "colab": {
          "base_uri": "https://localhost:8080/",
          "height": 251
        },
        "outputId": "26a2d94e-f35e-471c-a356-50bb65d53dcd"
      },
      "execution_count": null,
      "outputs": [
        {
          "output_type": "error",
          "ename": "NameError",
          "evalue": "ignored",
          "traceback": [
            "\u001b[0;31m---------------------------------------------------------------------------\u001b[0m",
            "\u001b[0;31mNameError\u001b[0m                                 Traceback (most recent call last)",
            "\u001b[0;32m<ipython-input-1-289698fcbf2e>\u001b[0m in \u001b[0;36m<cell line: 2>\u001b[0;34m()\u001b[0m\n\u001b[1;32m      1\u001b[0m \u001b[0;31m# cleaning hunterdon data\u001b[0m\u001b[0;34m\u001b[0m\u001b[0;34m\u001b[0m\u001b[0m\n\u001b[0;32m----> 2\u001b[0;31m \u001b[0mhunterdonWaterData\u001b[0m \u001b[0;34m=\u001b[0m \u001b[0mpd\u001b[0m\u001b[0;34m.\u001b[0m\u001b[0mread_csv\u001b[0m\u001b[0;34m(\u001b[0m\u001b[0;34m\"/content/drive/MyDrive/njdata/gw/hunterdon-county.csv\"\u001b[0m\u001b[0;34m)\u001b[0m\u001b[0;34m\u001b[0m\u001b[0;34m\u001b[0m\u001b[0m\n\u001b[0m\u001b[1;32m      3\u001b[0m \u001b[0;31m#print(middlesexWaterData.head())\u001b[0m\u001b[0;34m\u001b[0m\u001b[0;34m\u001b[0m\u001b[0m\n\u001b[1;32m      4\u001b[0m \u001b[0mhunterdonWaterData\u001b[0m \u001b[0;34m=\u001b[0m \u001b[0mhunterdonWaterData\u001b[0m\u001b[0;34m.\u001b[0m\u001b[0mdrop\u001b[0m\u001b[0;34m(\u001b[0m\u001b[0mcolumns\u001b[0m \u001b[0;34m=\u001b[0m \u001b[0;34m[\u001b[0m\u001b[0;34m\"Project\"\u001b[0m\u001b[0;34m,\u001b[0m \u001b[0;34m\"Comments\"\u001b[0m\u001b[0;34m,\u001b[0m \u001b[0;34m\"Submission ID\"\u001b[0m\u001b[0;34m]\u001b[0m\u001b[0;34m)\u001b[0m\u001b[0;34m\u001b[0m\u001b[0;34m\u001b[0m\u001b[0m\n\u001b[1;32m      5\u001b[0m \u001b[0mhunterdonWaterData\u001b[0m \u001b[0;34m=\u001b[0m \u001b[0mhunterdonWaterData\u001b[0m\u001b[0;34m.\u001b[0m \u001b[0msort_values\u001b[0m\u001b[0;34m(\u001b[0m\u001b[0mby\u001b[0m\u001b[0;34m=\u001b[0m\u001b[0;34m[\u001b[0m\u001b[0;34m\"Municipality\"\u001b[0m\u001b[0;34m]\u001b[0m\u001b[0;34m,\u001b[0m \u001b[0mascending\u001b[0m\u001b[0;34m=\u001b[0m\u001b[0;32mFalse\u001b[0m\u001b[0;34m)\u001b[0m\u001b[0;34m\u001b[0m\u001b[0;34m\u001b[0m\u001b[0m\n",
            "\u001b[0;31mNameError\u001b[0m: name 'pd' is not defined"
          ]
        }
      ]
    },
    {
      "cell_type": "code",
      "source": [
        "# cleaning mercer data\n",
        "mercerWaterData = pd.read_csv(\"/content/drive/MyDrive/njdata/gw/mercer-county.csv\")\n",
        "#print(middlesexWaterData.head())\n",
        "mercerWaterData = mercerWaterData.drop(columns = [\"Project\", \"Comments\", \"Submission ID\"])\n",
        "mercerWaterData = mercerWaterData. sort_values(by=[\"Municipality\"], ascending=False)\n",
        "#print(middlesexWaterData)\n",
        "count = avgAir = avgWater = avgSpecificConductance = avgSalinityPpt = avgDissolvedOxy = avgDOConcen = avgDepth = avgTurbidity = avgPhy = avgChloro = avgpH= 0\n",
        "resultMercerData = []\n",
        "for ind in mercerWaterData.index:\n",
        "    avgAir += mercerWaterData['Air Temperature C'][ind]\n",
        "    if(mercerWaterData['Water Temperature C'][ind]>0):\n",
        "      avgWater += mercerWaterData['Water Temperature C'][ind]\n",
        "    avgSpecificConductance += mercerWaterData['Specific Conductance mS/cm'][ind]\n",
        "    avgSalinityPpt += mercerWaterData['Salinity ppt'][ind]\n",
        "    avgDissolvedOxy += mercerWaterData['% Dissolved Oxygen %'][ind]\n",
        "    avgDOConcen += mercerWaterData['DO Concentration mg/L'][ind]\n",
        "    avgDepth += mercerWaterData['Depth m'][ind]\n",
        "    #avgpH += middlesexWaterData['pH'][ind]\n",
        "    avgTurbidity += mercerWaterData['Turbidity NTU'][ind]\n",
        "    avgPhy += mercerWaterData['Phycocyanin ug/L'][ind]\n",
        "    avgChloro += mercerWaterData['Chlorophyll a ug/L'][ind]\n",
        "    count+=1\n",
        "# cleaning the county data by ensuring there are no spots in these columns w/o information\n",
        "resultMercerData.append('Mercer')\n",
        "resultMercerData.append(avgWater/count)\n",
        "resultMercerData.append(avgAir/count)\n",
        "resultMercerData.append(avgSpecificConductance/count)\n",
        "resultMercerData.append(avgDOConcen/count)\n",
        "resultMercerData.append(avgDepth/count)\n",
        "resultMercerData.append(avgpH/count)\n",
        "resultMercerData.append(avgTurbidity/count)\n",
        "resultMercerData.append(avgPhy/count)\n",
        "resultMercerData.append(avgChloro/count)\n",
        "print(resultMercerData)"
      ],
      "metadata": {
        "id": "h0N4nDovsZId"
      },
      "execution_count": null,
      "outputs": []
    },
    {
      "cell_type": "code",
      "source": [
        "# cleaning middlesex data\n",
        "middlesexWaterData = pd.read_csv(\"/content/drive/MyDrive/njdata/gw/middlesex-county.csv\")\n",
        "#print(middlesexWaterData.head())\n",
        "middlesexWaterData = middlesexWaterData.drop(columns = [\"Project\", \"Comments\", \"Submission ID\"])\n",
        "middlesexWaterData = middlesexWaterData. sort_values(by=[\"Municipality\"], ascending=False)\n",
        "#print(middlesexWaterData)\n",
        "count = avgAir = avgWater = avgSpecificConductance = avgSalinityPpt = avgDissolvedOxy = avgDOConcen = avgDepth = avgTurbidity = avgPhy = avgChloro = avgpH= 0\n",
        "resultMiddlesexData = []\n",
        "for ind in middlesexWaterData.index:\n",
        "    avgAir += middlesexWaterData['Air Temperature C'][ind]\n",
        "    avgWater += middlesexWaterData['Water Temperature C'][ind]\n",
        "    avgSpecificConductance += middlesexWaterData['Specific Conductance mS/cm'][ind]\n",
        "    avgSalinityPpt += middlesexWaterData['Salinity ppt'][ind]\n",
        "    avgDissolvedOxy += middlesexWaterData['% Dissolved Oxygen %'][ind]\n",
        "    avgDOConcen += middlesexWaterData['DO Concentration mg/L'][ind]\n",
        "    avgDepth += middlesexWaterData['Depth m'][ind]\n",
        "    #avgpH += middlesexWaterData['pH'][ind]\n",
        "    avgTurbidity += middlesexWaterData['Turbidity NTU'][ind]\n",
        "    avgPhy += middlesexWaterData['Phycocyanin ug/L'][ind]\n",
        "    avgChloro += middlesexWaterData['Chlorophyll a ug/L'][ind]\n",
        "    count+=1\n",
        "# cleaning the county data by ensuring there are no spots in these columns w/o information\n",
        "resultMiddlesexData.append('Middlesex')\n",
        "resultMiddlesexData.append(avgWater/count)\n",
        "resultMiddlesexData.append(avgAir/count)\n",
        "resultMiddlesexData.append(avgSpecificConductance/count)\n",
        "resultMiddlesexData.append(avgDOConcen/count)\n",
        "resultMiddlesexData.append(avgDepth/count)\n",
        "resultMiddlesexData.append(avgpH/count)\n",
        "resultMiddlesexData.append(avgTurbidity/count)\n",
        "resultMiddlesexData.append(avgPhy/count)\n",
        "resultMiddlesexData.append(avgChloro/count)\n",
        "print(resultMiddlesexData)"
      ],
      "metadata": {
        "id": "EWT4ImtFHtAM"
      },
      "execution_count": null,
      "outputs": []
    },
    {
      "cell_type": "code",
      "source": [
        "# cleaning monmouth data\n",
        "monmouthWaterData = pd.read_csv(\"/content/drive/MyDrive/njdata/gw/monmouth-county.csv\")\n",
        "#print(middlesexWaterData.head())\n",
        "monmouthWaterData = monmouthWaterData.drop(columns = [\"Project\", \"Comments\", \"Submission ID\"])\n",
        "monmouthWaterData = monmouthWaterData. sort_values(by=[\"Municipality\"], ascending=False)\n",
        "#print(middlesexWaterData)\n",
        "count = avgAir = avgWater = avgSpecificConductance = avgSalinityPpt = avgDissolvedOxy = avgDOConcen = avgDepth = avgTurbidity = avgPhy = avgChloro = avgpH= 0\n",
        "resultMonmouthData = []\n",
        "for ind in monmouthWaterData.index:\n",
        "    avgAir += monmouthWaterData['Air Temperature C'][ind]\n",
        "    if(monmouthWaterData['Water Temperature C'][ind]>0):\n",
        "      avgWater += monmouthWaterData['Water Temperature C'][ind]\n",
        "    avgSpecificConductance += monmouthWaterData['Specific Conductance mS/cm'][ind]\n",
        "    avgSalinityPpt += monmouthWaterData['Salinity ppt'][ind]\n",
        "    avgDissolvedOxy += monmouthWaterData['% Dissolved Oxygen %'][ind]\n",
        "    avgDOConcen += monmouthWaterData['DO Concentration mg/L'][ind]\n",
        "    avgDepth += monmouthWaterData['Depth m'][ind]\n",
        "    #avgpH += middlesexWaterData['pH'][ind]\n",
        "    avgTurbidity += monmouthWaterData['Turbidity NTU'][ind]\n",
        "    avgPhy += monmouthWaterData['Phycocyanin ug/L'][ind]\n",
        "    avgChloro += monmouthWaterData['Chlorophyll a ug/L'][ind]\n",
        "    count+=1\n",
        "# cleaning the county data by ensuring there are no spots in these columns w/o information\n",
        "resultMonmouthData.append('Monmouth')\n",
        "resultMonmouthData.append(avgWater/count)\n",
        "resultMonmouthData.append(avgAir/count)\n",
        "resultMonmouthData.append(avgSpecificConductance/count)\n",
        "resultMonmouthData.append(avgDOConcen/count)\n",
        "resultMonmouthData.append(avgDepth/count)\n",
        "resultMonmouthData.append(avgpH/count)\n",
        "resultMonmouthData.append(avgTurbidity/count)\n",
        "resultMonmouthData.append(avgPhy/count)\n",
        "resultMonmouthData.append(avgChloro/count)\n",
        "print(resultMonmouthData)"
      ],
      "metadata": {
        "id": "stwU9w4uHup2"
      },
      "execution_count": null,
      "outputs": []
    },
    {
      "cell_type": "code",
      "source": [
        "# cleaning morris data\n",
        "morrisWaterData = pd.read_csv(\"/content/drive/MyDrive/njdata/gw/morris-county.csv\")\n",
        "#print(middlesexWaterData.head())\n",
        "morrisWaterData = morrisWaterData.drop(columns = [\"Project\", \"Comments\", \"Submission ID\"])\n",
        "morrisWaterData = morrisWaterData. sort_values(by=[\"Municipality\"], ascending=False)\n",
        "#print(middlesexWaterData)\n",
        "count = avgAir = avgWater = avgSpecificConductance = avgSalinityPpt = avgDissolvedOxy = avgDOConcen = avgDepth = avgTurbidity = avgPhy = avgChloro = avgpH= 0\n",
        "resultMorrisData = []\n",
        "for ind in morrisWaterData.index:\n",
        "    avgAir += morrisWaterData['Air Temperature C'][ind]\n",
        "    if(morrisWaterData['Water Temperature C'][ind]>0):\n",
        "      avgWater += morrisWaterData['Water Temperature C'][ind]\n",
        "    avgSpecificConductance += morrisWaterData['Specific Conductance mS/cm'][ind]\n",
        "    avgSalinityPpt += morrisWaterData['Salinity ppt'][ind]\n",
        "    avgDissolvedOxy += morrisWaterData['% Dissolved Oxygen %'][ind]\n",
        "    avgDOConcen += morrisWaterData['DO Concentration mg/L'][ind]\n",
        "    avgDepth += morrisWaterData['Depth m'][ind]\n",
        "    #avgpH += middlesexWaterData['pH'][ind]\n",
        "    avgTurbidity += morrisWaterData['Turbidity NTU'][ind]\n",
        "    avgPhy += morrisWaterData['Phycocyanin ug/L'][ind]\n",
        "    avgChloro += morrisWaterData['Chlorophyll a ug/L'][ind]\n",
        "    count+=1\n",
        "# cleaning the county data by ensuring there are no spots in these columns w/o information\n",
        "resultMorrisData.append('Morris')\n",
        "resultMorrisData.append(avgWater/count)\n",
        "resultMorrisData.append(avgAir/count)\n",
        "resultMorrisData.append(avgSpecificConductance/count)\n",
        "resultMorrisData.append(avgDOConcen/count)\n",
        "resultMorrisData.append(avgDepth/count)\n",
        "resultMorrisData.append(avgpH/count)\n",
        "resultMorrisData.append(avgTurbidity/count)\n",
        "resultMorrisData.append(avgPhy/count)\n",
        "resultMorrisData.append(avgChloro/count)\n",
        "print(resultMorrisData)"
      ],
      "metadata": {
        "colab": {
          "base_uri": "https://localhost:8080/"
        },
        "id": "Zj76fiVFHwyd",
        "outputId": "a8c0927d-8838-48c9-ce0a-3486a8575650"
      },
      "execution_count": null,
      "outputs": [
        {
          "output_type": "stream",
          "name": "stderr",
          "text": [
            "<ipython-input-11-45705b3e0a8c>:2: DtypeWarning: Columns (11) have mixed types. Specify dtype option on import or set low_memory=False.\n",
            "  morrisWaterData = pd.read_csv(\"/content/drive/MyDrive/njdata/gw/morris-county.csv\")\n"
          ]
        },
        {
          "output_type": "stream",
          "name": "stdout",
          "text": [
            "['Morris', 19.295243773205453, nan, nan, nan, nan, 0.0, nan, nan, nan]\n"
          ]
        }
      ]
    },
    {
      "cell_type": "code",
      "source": [
        "# cleaning ocean county data\n",
        "oceanWaterData1 = pd.read_csv(\"/content/drive/MyDrive/njdata/gw/ocean-county-barnegatbaypartnership.csv\")\n",
        "oceanWaterData2 = pd.read_csv(\"/content/drive/MyDrive/njdata/gw/ocean-county-ndepfreshwaterandbiomon.csv\")\n",
        "#oceanWaterData3 = pd.read_csv(\"/content/drive/MyDrive/njdata/gw/ocean-county-ndepmarinewatermon.csv\", on_bad_lines='skip')\n",
        "oceanWaterData1 = oceanWaterData1.drop(columns = [\"Project\", \"Comments\", \"Submission ID\"])\n",
        "oceanWaterData1 = oceanWaterData1. sort_values(by=[\"Municipality\"], ascending=False)\n",
        "oceanWaterData2 = oceanWaterData2.drop(columns = [\"Project\", \"Comments\", \"Submission ID\"])\n",
        "oceanWaterData2 = oceanWaterData2. sort_values(by=[\"Municipality\"], ascending=False)\n",
        "#oceanWaterData3 = oceanWaterData3.drop(columns = [\"Project\", \"Comments\", \"Submission ID\"])\n",
        "#oceanWaterData3 = oceanWaterData3. sort_values(by=[\"Municipality\"], ascending=False)\n",
        "count = avgAir = avgWater = avgSpecificConductance = avgSalinityPpt = avgDissolvedOxy = avgDOConcen = avgDepth = avgTurbidity = avgPhy = avgChloro = avgpH= 0\n",
        "resultOceanData = []\n",
        "for ind in oceanWaterData1.index:\n",
        "    avgAir += oceanWaterData1['Air Temperature C'][ind]\n",
        "    avgWater += oceanWaterData1['Water Temperature C'][ind]\n",
        "    if(oceanWaterData1['Specific Conductance mS/cm'][ind]):\n",
        "      avgSpecificConductance += oceanWaterData1['Specific Conductance mS/cm'][ind]\n",
        "    avgSalinityPpt += oceanWaterData1['Salinity ppt'][ind]\n",
        "    avgDissolvedOxy += oceanWaterData1['% Dissolved Oxygen %'][ind]\n",
        "    avgDOConcen += oceanWaterData1['DO Concentration mg/L'][ind]\n",
        "    avgDepth += oceanWaterData1['Depth m'][ind]\n",
        "    #avgpH += bergenWaterData1['pH'][ind]\n",
        "    avgTurbidity += oceanWaterData1['Turbidity NTU'][ind]\n",
        "    avgPhy += oceanWaterData1['Phycocyanin ug/L'][ind]\n",
        "    avgChloro += oceanWaterData1['Chlorophyll a ug/L'][ind]\n",
        "    count+=1\n",
        "#print(avgWater)\n",
        "for ind in oceanWaterData2.index:\n",
        "    avgAir += oceanWaterData2['Air Temperature C'][ind]\n",
        "    if(oceanWaterData2['Water Temperature C'][ind]>0):\n",
        "      avgWater += oceanWaterData2['Water Temperature C'][ind]\n",
        "    if(oceanWaterData2['Specific Conductance mS/cm'][ind]>0):\n",
        "      avgSpecificConductance += oceanWaterData2['Specific Conductance mS/cm'][ind]\n",
        "    avgSalinityPpt += oceanWaterData2['Salinity ppt'][ind]\n",
        "    avgDissolvedOxy += oceanWaterData2['% Dissolved Oxygen %'][ind]\n",
        "    avgDOConcen += oceanWaterData2['DO Concentration mg/L'][ind]\n",
        "    avgDepth += oceanWaterData2['Depth m'][ind]\n",
        "    #avgpH += bergenWaterData2['pH'][ind]\n",
        "    avgTurbidity += oceanWaterData2['Turbidity NTU'][ind]\n",
        "    avgPhy += oceanWaterData2['Phycocyanin ug/L'][ind]\n",
        "    avgChloro += oceanWaterData2['Chlorophyll a ug/L'][ind]\n",
        "    count+=1\n",
        "# for ind in oceanWaterData3.index:\n",
        "#     avgAir += oceanWaterData3['Air Temperature C'][ind]\n",
        "#     if(oceanWaterData3['Water Temperature C'][ind]>0):\n",
        "#       avgWater += oceanWaterData3['Water Temperature C'][ind]\n",
        "#     if(oceanWaterData3['Specific Conductance mS/cm'][ind]>0):\n",
        "#       avgSpecificConductance += oceanWaterData3['Specific Conductance mS/cm'][ind]\n",
        "#     avgSalinityPpt += oceanWaterData3['Salinity ppt'][ind]\n",
        "#     avgDissolvedOxy += oceanWaterData3['% Dissolved Oxygen %'][ind]\n",
        "#     avgDOConcen += oceanWaterData3['DO Concentration mg/L'][ind]\n",
        "#     avgDepth += oceanWaterData3['Depth m'][ind]\n",
        "#     #avgpH += bergenWaterData2['pH'][ind]\n",
        "#     avgTurbidity += oceanWaterData3['Turbidity NTU'][ind]\n",
        "#     avgPhy += oceanWaterData3['Phycocyanin ug/L'][ind]\n",
        "#     avgChloro += oceanWaterData3['Chlorophyll a ug/L'][ind]\n",
        "#     count+=1\n",
        "# cleaning the county data by ensuring there are no spots in these columns w/o information\n",
        "#print(avgWater)\n",
        "resultOceanData.append('Ocean')\n",
        "resultOceanData.append(avgWater/count)\n",
        "resultOceanData.append(avgAir/count)\n",
        "resultOceanData.append(avgSpecificConductance/count)\n",
        "resultOceanData.append(avgDOConcen/count)\n",
        "resultOceanData.append(avgDepth/count)\n",
        "#resultBergenData.append(avgpH/count)\n",
        "resultOceanData.append(avgTurbidity/count)\n",
        "resultOceanData.append(avgPhy/count)\n",
        "resultOceanData.append(avgChloro/count)\n",
        "print(resultOceanData)"
      ],
      "metadata": {
        "colab": {
          "base_uri": "https://localhost:8080/"
        },
        "id": "aBJSWTmVHyyi",
        "outputId": "20a0ec21-540e-4c70-af2c-12765d6c7d96"
      },
      "execution_count": null,
      "outputs": [
        {
          "output_type": "stream",
          "name": "stderr",
          "text": [
            "<ipython-input-12-aee89aa27555>:3: DtypeWarning: Columns (11) have mixed types. Specify dtype option on import or set low_memory=False.\n",
            "  oceanWaterData2 = pd.read_csv(\"/content/drive/MyDrive/njdata/gw/ocean-county-ndepfreshwaterandbiomon.csv\")\n"
          ]
        },
        {
          "output_type": "stream",
          "name": "stdout",
          "text": [
            "['Ocean', nan, nan, nan, nan, nan, nan, nan, nan]\n"
          ]
        }
      ]
    },
    {
      "cell_type": "code",
      "source": [
        "# cleaning the county data by eliminating unnecessary columns\n",
        "unionWaterData = pd.read_csv(\"/content/drive/MyDrive/njdata/gw/union-county.csv\")\n",
        "#print(unionWaterData.head())\n",
        "#unionWaterData = unionWaterData.drop(columns = ['Salinity ppt', \"Turbidity NTU\", \"Chlorophyll a ug/L\", \"Project\", \"Comments\"])\n",
        "unionWaterData = unionWaterData.drop(columns = [\"Project\", \"Comments\", \"Submission ID\", \"Station\", \"Huc14\", \"Affiliation\", \"StationType\"])\n",
        "unionWaterData = unionWaterData. sort_values(by=[\"Municipality\"], ascending=False)\n",
        "#print(unionWaterData.head())\n",
        "# cleaning the county data by ensuring there are no spots in these columns w/o information\n",
        "count = avgAir = avgWater = avgSpecificConductance = avgSalinityPpt = avgDissolvedOxy = avgDOConcen = avgDepth = avgTurbidity = avgPhy = avgChloro = avgpH= 0\n",
        "resultUnionData = []\n",
        "for ind in unionWaterData.index:\n",
        "    avgAir += unionWaterData['Air Temperature C'][ind]\n",
        "    avgWater += unionWaterData['Water Temperature C'][ind]\n",
        "    if(unionWaterData['Specific Conductance mS/cm'][ind]):\n",
        "      avgSpecificConductance += unionWaterData['Specific Conductance mS/cm'][ind]\n",
        "    avgSalinityPpt += unionWaterData['Salinity ppt'][ind]\n",
        "    avgDissolvedOxy += unionWaterData['% Dissolved Oxygen %'][ind]\n",
        "    avgDOConcen += unionWaterData['DO Concentration mg/L'][ind]\n",
        "    avgDepth += unionWaterData['Depth m'][ind]\n",
        "    #avgpH += bergenWaterData1['pH'][ind]\n",
        "    avgTurbidity += unionWaterData['Turbidity NTU'][ind]\n",
        "    avgPhy += unionWaterData['Phycocyanin ug/L'][ind]\n",
        "    avgChloro += unionWaterData['Chlorophyll a ug/L'][ind]\n",
        "    count+=1\n",
        "resultUnionData.append('Union')\n",
        "resultUnionData.append(avgWater/count)\n",
        "resultUnionData.append(avgAir/count)\n",
        "resultUnionData.append(avgSpecificConductance/count)\n",
        "resultUnionData.append(avgDOConcen/count)\n",
        "resultUnionData.append(avgDepth/count)\n",
        "#resultBergenData.append(avgpH/count)\n",
        "resultUnionData.append(avgTurbidity/count)\n",
        "resultUnionData.append(avgPhy/count)\n",
        "resultUnionData.append(avgChloro/count)\n",
        "print(resultUnionData)"
      ],
      "metadata": {
        "colab": {
          "base_uri": "https://localhost:8080/"
        },
        "id": "0m1QJgw0H052",
        "outputId": "c7d51f94-1ce8-49ae-c1d7-b1549590d8d9"
      },
      "execution_count": null,
      "outputs": [
        {
          "output_type": "stream",
          "name": "stdout",
          "text": [
            "['Union', 20.56327693557115, nan, nan, nan, nan, nan, nan, nan]\n"
          ]
        }
      ]
    },
    {
      "cell_type": "code",
      "source": [
        "#warren county cleaning\n",
        "warrenWaterData = pd.read_csv(\"/content/drive/MyDrive/njdata/gw/warren-county.csv\")\n",
        "#print(middlesexWaterData.head())\n",
        "warrenWaterDataWaterData = warrenWaterData.drop(columns = [\"Project\", \"Comments\", \"Submission ID\"])\n",
        "warrenWaterData = warrenWaterData. sort_values(by=[\"Municipality\"], ascending=False)\n",
        "#print(middlesexWaterData)\n",
        "count = avgAir = avgWater = avgSpecificConductance = avgSalinityPpt = avgDissolvedOxy = avgDOConcen = avgDepth = avgTurbidity = avgPhy = avgChloro = avgpH= 0\n",
        "resultWarrenData = []\n",
        "for ind in warrenWaterData.index:\n",
        "    avgAir += warrenWaterData['Air Temperature C'][ind]\n",
        "    if(warrenWaterData['Water Temperature C'][ind]>0):\n",
        "      avgWater += warrenWaterData['Water Temperature C'][ind]\n",
        "    avgSpecificConductance += warrenWaterData['Specific Conductance mS/cm'][ind]\n",
        "    avgSalinityPpt += warrenWaterData['Salinity ppt'][ind]\n",
        "    avgDissolvedOxy += warrenWaterData['% Dissolved Oxygen %'][ind]\n",
        "    avgDOConcen += warrenWaterData['DO Concentration mg/L'][ind]\n",
        "    avgDepth += warrenWaterData['Depth m'][ind]\n",
        "    #avgpH += warrenWaterData['pH'][ind]\n",
        "    avgTurbidity += warrenWaterData['Turbidity NTU'][ind]\n",
        "    avgPhy += warrenWaterData['Phycocyanin ug/L'][ind]\n",
        "    avgChloro += warrenWaterData['Chlorophyll a ug/L'][ind]\n",
        "    count+=1\n",
        "# cleaning the county data by ensuring there are no spots in these columns w/o information\n",
        "resultWarrenData.append('Morris')\n",
        "resultWarrenData.append(avgWater/count)\n",
        "resultWarrenData.append(avgAir/count)\n",
        "resultWarrenData.append(avgSpecificConductance/count)\n",
        "resultWarrenData.append(avgDOConcen/count)\n",
        "resultWarrenData.append(avgDepth/count)\n",
        "resultWarrenData.append(avgpH/count)\n",
        "resultWarrenData.append(avgTurbidity/count)\n",
        "resultWarrenData.append(avgPhy/count)\n",
        "resultWarrenData.append(avgChloro/count)\n",
        "print(resultWarrenData)"
      ],
      "metadata": {
        "id": "n8cQD5kg8t-r"
      },
      "execution_count": null,
      "outputs": []
    },
    {
      "cell_type": "code",
      "source": [],
      "metadata": {
        "id": "L3pId1gR9baH"
      },
      "execution_count": null,
      "outputs": []
    }
  ]
}